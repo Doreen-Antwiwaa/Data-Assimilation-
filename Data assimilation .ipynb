{
 "cells": [
  {
   "cell_type": "code",
   "execution_count": null,
   "id": "a839f92c",
   "metadata": {},
   "outputs": [],
   "source": []
  },
  {
   "cell_type": "code",
   "execution_count": 1,
   "id": "bad67e9a",
   "metadata": {},
   "outputs": [
    {
     "name": "stdout",
     "output_type": "stream",
     "text": [
      "Day 1: Analysis State = 15.000°C\n",
      "Day 2: Analysis State = 15.800°C\n",
      "Day 3: Analysis State = 14.250°C\n",
      "Day 4: Analysis State = 15.900°C\n",
      "Day 5: Analysis State = 25.150°C\n"
     ]
    }
   ],
   "source": [
    "import numpy as np\n",
    "\n",
    "# Example data: model output and observations\n",
    "model_output = np.array([14.8,15.5,14.0,16.0,25.3])  # Replace with your model output data\n",
    "observations = np.array([15.2,16.1,14.5,15.8,25.0])  # Replace with your observation data\n",
    "\n",
    "# Calculating the background error variance\n",
    "sigma_b2 = np.var(model_output - observations)\n",
    "\n",
    "# Calculating the observation error variance\n",
    "sigma_r2 = np.var(observations - model_output)\n",
    "\n",
    "# Calculating the Kalman Gain\n",
    "K = sigma_b2 / (sigma_b2 + sigma_r2)\n",
    "\n",
    "# Performing Optimal Interpolation to update the model predictions\n",
    "analysis_state = model_output + K * (observations - model_output)\n",
    "\n",
    "# Printing the updated model predictions (analysis state)\n",
    "for i, state in enumerate(analysis_state, start=1):\n",
    "    print(f\"Day {i}: Analysis State = {state:.3f}°C\")\n"
   ]
  },
  {
   "cell_type": "code",
   "execution_count": 2,
   "id": "57f60567",
   "metadata": {},
   "outputs": [],
   "source": [
    "\n",
    "# Define the number of data points\n",
    "n = len(observations)\n",
    "\n",
    "# Initialize arrays for the Kalman Filter\n",
    "analysis = np.zeros(n)\n",
    "P = np.zeros(n)  # Error covariance\n",
    "K = np.zeros(n)  # Kalman gain\n",
    "\n",
    "# Initial guesses\n",
    "analysis[0] = model_output[0]\n",
    "P[0] = 1.0  # Initial guess for the error covariance\n",
    "\n",
    "# Measurement error variance and model error variance\n",
    "R = 1.0\n",
    "Q = 1.0\n",
    "\n",
    "# Kalman Filter implementation\n",
    "for k in range(1, n):\n",
    "    # Prediction step\n",
    "    analysis[k] = analysis[k-1]  # Predicted state\n",
    "    P[k] = P[k-1] + Q  # Predicted error covariance\n",
    "\n",
    "    # Update step\n",
    "    K[k] = P[k] / (P[k] + R)  # Kalman gain\n",
    "    analysis[k] = analysis[k] + K[k] * (observations[k] - analysis[k])  # Updated state estimate\n",
    "    P[k] = (1 - K[k]) * P[k]  # Updated error covariance\n"
   ]
  },
  {
   "cell_type": "code",
   "execution_count": 3,
   "id": "41c2a0f3",
   "metadata": {},
   "outputs": [
    {
     "name": "stdout",
     "output_type": "stream",
     "text": [
      "RMSE (Model): 0.4242640687119287\n",
      "RMSE (Analysis): 1.6663439112980265\n",
      "Bias (Model): -0.2\n",
      "Bias (Analysis): -0.8725173160173163\n"
     ]
    }
   ],
   "source": [
    "from sklearn.metrics import mean_squared_error\n",
    "\n",
    "# Calculate RMSE\n",
    "rmse_model = np.sqrt(mean_squared_error(observations, model_output))\n",
    "rmse_analysis = np.sqrt(mean_squared_error(observations, analysis))\n",
    "\n",
    "# Calculate Bias\n",
    "bias_model = np.mean(model_output - observations)\n",
    "bias_analysis = np.mean(analysis - observations)\n",
    "\n",
    "print(f\"RMSE (Model): {rmse_model}\")\n",
    "print(f\"RMSE (Analysis): {rmse_analysis}\")\n",
    "print(f\"Bias (Model): {bias_model}\")\n",
    "print(f\"Bias (Analysis): {bias_analysis}\")\n"
   ]
  },
  {
   "cell_type": "code",
   "execution_count": null,
   "id": "dff923f9",
   "metadata": {},
   "outputs": [],
   "source": []
  }
 ],
 "metadata": {
  "kernelspec": {
   "display_name": "Python 3 (ipykernel)",
   "language": "python",
   "name": "python3"
  },
  "language_info": {
   "codemirror_mode": {
    "name": "ipython",
    "version": 3
   },
   "file_extension": ".py",
   "mimetype": "text/x-python",
   "name": "python",
   "nbconvert_exporter": "python",
   "pygments_lexer": "ipython3",
   "version": "3.9.12"
  }
 },
 "nbformat": 4,
 "nbformat_minor": 5
}
